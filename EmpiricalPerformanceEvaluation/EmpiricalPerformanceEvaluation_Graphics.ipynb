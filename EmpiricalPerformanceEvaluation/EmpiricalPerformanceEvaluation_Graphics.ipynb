{
 "cells": [
  {
   "cell_type": "markdown",
   "id": "05e00c4f-c19e-4d0f-ab15-2c2c5009c43b",
   "metadata": {},
   "source": [
    "### Bubble sort X Merge sort em comparação de tempo."
   ]
  },
  {
   "cell_type": "code",
   "execution_count": 6,
   "id": "2d706b04-d338-441b-a5c5-3dab7ea8ab95",
   "metadata": {},
   "outputs": [],
   "source": [
    "import matplotlib.pyplot as plt"
   ]
  },
  {
   "cell_type": "code",
   "execution_count": 7,
   "id": "f601e05a-6fd0-4c0c-86e5-003bcd01dcf0",
   "metadata": {
    "tags": []
   },
   "outputs": [
    {
     "data": {
      "image/png": "[encoded data removed]",
      "text/plain": [
       "<Figure size 432x288 with 1 Axes>"
      ]
     },
     "metadata": {
      "needs_background": "light"
     },
     "output_type": "display_data"
    }
   ],
   "source": [
    "# x axis values for array size.\n",
    "x = [25, 50, 100, 200, 400, 800, 1600, 3200, 6400, 12800, 25600, 51200, 102400, 204800, 409600]\n",
    "# Bubble sort y axis values for time.\n",
    "y1 = [0, 0, 0, 0.002, 0.009, 0.035, 0.134, 0.557, 2.264, 8.956, 35.195, 140.05, 572.708, 2283.57, 8988.34]\n",
    "# Merge sort y axis values for time.\n",
    "y2 = [0, 0, 0.001, 0.002, 0.004, 0.010, 0.022, 0.044, 0.085, 0.181, 0.369, 0.747, 1.534, 3.181, 6.525]\n",
    "\n",
    "plt.plot(x, y1, label = \"Bubble sort\")\n",
    "plt.plot(x, y2, label = \"Merge sort\")\n",
    "\n",
    "plt.title('Bubble sort X Merge sort')\n",
    "plt.xlabel(\"array size\")\n",
    "plt.ylabel(\"milliseconds\")\n",
    "plt.legend()\n",
    "plt.show()"
   ]
  },
  {
   "cell_type": "markdown",
   "id": "d5da7861-ba8c-4a52-86a0-356eab06d05d",
   "metadata": {},
   "source": [
    "### Modelo de \"razão dobrada\""
   ]
  },
  {
   "cell_type": "markdown",
   "id": "3ddd2ac7-01a3-40fe-8b5b-cb5314da753d",
   "metadata": {},
   "source": [
    "Aplicando do modelo de razão dobrada ao código, o valor de 2^d do algoritmo Bubble sort convergiu para 4, ou seja, 2^2 com d = 2."
   ]
  },
  {
   "cell_type": "markdown",
   "id": "b7373ebe-1864-4cda-9cac-d298dfc48333",
   "metadata": {},
   "source": [
    "Já na aplicação do modelo no algoritmo Merge sort, o valor de 2^d convergiu para 2, ou seja, 2^1 com d = 1. Abaixo segue a saída da execução dos algoritmos."
   ]
  },
  {
   "cell_type": "markdown",
   "id": "16093ea0-7c44-404c-9fd7-c11815bb57bc",
   "metadata": {},
   "source": [
    "-----------------------------------------------\n",
    "--------Starting Bubble sort measures-----------\n",
    "-----------------------------------------------\n",
    "Iteration: 1 with vector size 25...\n",
    "Ended with time: 0.\n",
    "\n",
    "Iteration: 2 with vector size 50...\n",
    "Ended with time: 0.\n",
    "\n",
    "Iteration: 3 with vector size 100...\n",
    "Ended with time: 0.\n",
    "\n",
    "Iteration: 4 with vector size 200...\n",
    "Ended with time: 0.002.\n",
    "\n",
    "Iteration: 5 with vector size 400...\n",
    "Ended with time: 0.009.\n",
    "\n",
    "Iteration: 6 with vector size 800...\n",
    "Ended with time: 0.035.\n",
    "\n",
    "Iteration: 7 with vector size 1600...\n",
    "Ended with time: 0.134.\n",
    "\n",
    "Iteration: 8 with vector size 3200...\n",
    "Ended with time: 0.557.\n",
    "\n",
    "Iteration: 9 with vector size 6400...\n",
    "Ended with time: 2.264.\n",
    "\n",
    "Iteration: 10 with vector size 12800...\n",
    "Ended with time: 8.956.\n",
    "d = 4.478\n",
    "\n",
    "Iteration: 11 with vector size 25600...\n",
    "Ended with time: 35.195.\n",
    "d = 4.39938\n",
    "\n",
    "Iteration: 12 with vector size 51200...\n",
    "Ended with time: 140.05.\n",
    "d = 4.00143\n",
    "\n",
    "Iteration: 13 with vector size 102400...\n",
    "Ended with time: 572.708.\n",
    "d = 4.09077\n",
    "\n",
    "Iteration: 14 with vector size 204800...\n",
    "Ended with time: 2283.57.\n",
    "d = 3.99226\n",
    "\n",
    "Iteration: 15 with vector size 409600...\n",
    "Ended with time: 8988.34.\n",
    "d = 3.93707\n",
    "\n",
    "-----------------------------------------------\n",
    "--------Starting Merge sort measures-----------\n",
    "-----------------------------------------------\n",
    "Iteration: 1 with vector size 25...\n",
    "Ended with time: 0.\n",
    "\n",
    "Iteration: 2 with vector size 50...\n",
    "Ended with time: 0.\n",
    "\n",
    "Iteration: 3 with vector size 100...\n",
    "Ended with time: 0.001.\n",
    "\n",
    "Iteration: 4 with vector size 200...\n",
    "Ended with time: 0.002.\n",
    "\n",
    "Iteration: 5 with vector size 400...\n",
    "Ended with time: 0.004.\n",
    "\n",
    "Iteration: 6 with vector size 800...\n",
    "Ended with time: 0.01.\n",
    "\n",
    "Iteration: 7 with vector size 1600...\n",
    "Ended with time: 0.022.\n",
    "\n",
    "Iteration: 8 with vector size 3200...\n",
    "Ended with time: 0.044.\n",
    "\n",
    "Iteration: 9 with vector size 6400...\n",
    "Ended with time: 0.085.\n",
    "\n",
    "Iteration: 10 with vector size 12800...\n",
    "Ended with time: 0.181.\n",
    "\n",
    "Iteration: 11 with vector size 25600...\n",
    "Ended with time: 0.369.\n",
    "\n",
    "Iteration: 12 with vector size 51200...\n",
    "Ended with time: 0.747.\n",
    "\n",
    "Iteration: 13 with vector size 102400...\n",
    "Ended with time: 1.534.\n",
    "\n",
    "Iteration: 14 with vector size 204800...\n",
    "Ended with time: 3.181.\n",
    "d = 3.181\n",
    "\n",
    "Iteration: 15 with vector size 409600...\n",
    "Ended with time: 6.525.\n",
    "d = 2.175\n",
    "\n",
    "O C:\\Users\\gabri\\Documents\\AlgorithmDesignAndAnalysis\\EmpiricalPerformanceEvaluation\\Debug\\EmpiricalPerformanceEvaluation.exe (processo 4632) foi encerrado com o código 0.\n",
    "Pressione qualquer tecla para fechar esta janela..."
   ]
  },
  {
   "cell_type": "code",
   "execution_count": null,
   "id": "5043938e-af92-47da-ab55-914e7d1cf299",
   "metadata": {},
   "outputs": [],
   "source": []
  }
 ],
 "metadata": {
  "kernelspec": {
   "display_name": "Python 3",
   "language": "python",
   "name": "python3"
  },
  "language_info": {
   "codemirror_mode": {
    "name": "ipython",
    "version": 3
   },
   "file_extension": ".py",
   "mimetype": "text/x-python",
   "name": "python",
   "nbconvert_exporter": "python",
   "pygments_lexer": "ipython3",
   "version": "3.9.5"
  }
 },
 "nbformat": 4,
 "nbformat_minor": 5
}
